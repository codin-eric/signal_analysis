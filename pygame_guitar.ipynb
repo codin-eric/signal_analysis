{
 "cells": [
  {
   "cell_type": "markdown",
   "id": "62d98507-15b8-4062-95e3-86fe052074a0",
   "metadata": {},
   "source": [
    "# Pygame guitar circles\n",
    "https://www.makeartwithpython.com/blog/video-synthesizer-in-python/"
   ]
  },
  {
   "cell_type": "code",
   "execution_count": null,
   "id": "5fd64144-48f0-4572-b93c-0a8d8e557049",
   "metadata": {},
   "outputs": [],
   "source": [
    "import pyaudio\n",
    "import aubio\n",
    "import numpy as np\n",
    "\n",
    "import pygame\n",
    "import random\n",
    "\n",
    "from threading import Thread\n",
    "\n",
    "import queue\n",
    "import time"
   ]
  },
  {
   "cell_type": "code",
   "execution_count": null,
   "id": "af749a32-46cf-465d-a68a-dd0f04cee29d",
   "metadata": {},
   "outputs": [],
   "source": [
    "p = pyaudio.PyAudio()\n",
    "\n",
    "CHANNELS = 1\n",
    "RATE = 44100\n",
    "buffer_size = 4096 # needed to change this to get undistorted audio\n",
    "\n",
    "\n",
    "# detect recorder\n",
    "info = p.get_host_api_info_by_index(0)\n",
    "numdevices = info.get('deviceCount')\n",
    "\n",
    "recorder_name = 'Scarlett 2i2 USB'\n",
    "for i in range(0, numdevices):\n",
    "    name = p.get_device_info_by_host_api_device_index(0, i).get('name')\n",
    "    if name == recorder_name:\n",
    "        recorder_id = i"
   ]
  },
  {
   "cell_type": "code",
   "execution_count": null,
   "id": "e3b179da-9ea4-48cc-994d-422497f80792",
   "metadata": {},
   "outputs": [],
   "source": [
    "recorder_id"
   ]
  },
  {
   "cell_type": "code",
   "execution_count": null,
   "id": "d9bf088c-891d-415d-bdcc-dbab509f61bf",
   "metadata": {},
   "outputs": [],
   "source": [
    "stream = p.open(\n",
    "    format=pyaudio.paFloat32,\n",
    "    channels=CHANNELS,\n",
    "    rate=RATE,\n",
    "    input=True,\n",
    "    # stream_callback=callback,\n",
    "    input_device_index=recorder_id\n",
    ")\n",
    "\n",
    "# stream.start_stream()"
   ]
  },
  {
   "cell_type": "code",
   "execution_count": null,
   "id": "9289f900-1358-4594-8d21-eb3d2c51956c",
   "metadata": {},
   "outputs": [],
   "source": [
    "pygame.init()\n",
    "\n",
    " # run in window\n",
    "screenWidth, screenHeight = 800, 800\n",
    "screen = pygame.display.set_mode((screenWidth, screenHeight))\n",
    "\n",
    "clock = pygame.time.Clock()"
   ]
  },
  {
   "cell_type": "code",
   "execution_count": null,
   "id": "f9717f68-9e18-42aa-a691-0f53437fffb7",
   "metadata": {},
   "outputs": [],
   "source": [
    "white = (255, 255, 255)\n",
    "black = (0, 0, 0)\n",
    "\n",
    "class Circle(object):\n",
    "    def __init__(self, x, y, color, size):\n",
    "        self.x = x\n",
    "        self.y = y\n",
    "        self.color = color\n",
    "        self.size = size\n",
    "\n",
    "    def shrink(self):\n",
    "        self.size -= 3\n",
    "\n",
    "colors = [(229, 244, 227), (93, 169, 233), (0, 63, 145), (255, 255, 255), (109, 50, 109)]\n",
    "circleList = []"
   ]
  },
  {
   "cell_type": "code",
   "execution_count": null,
   "id": "bc0fad1a-4dcb-419a-8f48-55409b265e9d",
   "metadata": {},
   "outputs": [],
   "source": [
    "# setup onset detector\n",
    "tolerance = 0.8\n",
    "win_s = 4096 # fft size\n",
    "hop_s = buffer_size // 2 # hop size\n",
    "onset = aubio.onset(\"default\", win_s, hop_s, RATE)\n",
    "\n",
    "q = queue.Queue()"
   ]
  },
  {
   "cell_type": "code",
   "execution_count": null,
   "id": "0ab3a0f2-5705-4e99-8427-6a931b2c8902",
   "metadata": {},
   "outputs": [],
   "source": [
    "def draw_pygame():\n",
    "    running = True\n",
    "    while running:\n",
    "        key = pygame.key.get_pressed()\n",
    "\n",
    "        if key[pygame.K_q]:\n",
    "            running = False\n",
    "        for event in pygame.event.get():\n",
    "            if event.type == pygame.QUIT:\n",
    "                running = False\n",
    "\n",
    "        if not q.empty():\n",
    "            b = q.get()\n",
    "            newCircle = Circle(random.randint(0, screenWidth), random.randint(0, screenHeight),\n",
    "                               random.choice(colors), 700)\n",
    "            circleList.append(newCircle)\n",
    "\n",
    "        screen.fill(black)\n",
    "        for place, circle in enumerate(circleList):\n",
    "            if circle.size < 1:\n",
    "                circleList.pop(place)\n",
    "            else:\n",
    "                pygame.draw.circle(screen, circle.color, (circle.x, circle.y), circle.size)\n",
    "            circle.shrink()\n",
    "        \n",
    "        pygame.display.flip()\n",
    "        clock.tick(90)"
   ]
  },
  {
   "cell_type": "code",
   "execution_count": null,
   "id": "ce175615-9d7c-4aef-aee4-31142ee6a700",
   "metadata": {},
   "outputs": [],
   "source": [
    "def get_onsets():\n",
    "    while True:\n",
    "        try:\n",
    "            buffer_size = 2048 # needed to change this to get undistorted audio\n",
    "            audiobuffer = stream.read(buffer_size, exception_on_overflow=False)\n",
    "            signal = np.fromstring(audiobuffer, dtype=np.float32)\n",
    "\n",
    "\n",
    "            if onset(signal):\n",
    "                q.put(True)\n",
    "\n",
    "        except KeyboardInterrupt:\n",
    "            print(\"*** Ctrl+C pressed, exiting\")\n",
    "            break\n",
    "\n",
    "\n",
    "t = Thread(target=get_onsets, args=())\n",
    "t.daemon = True\n",
    "t.start()\n",
    "\n",
    "draw_pygame()\n",
    "get_onsets()"
   ]
  },
  {
   "cell_type": "code",
   "execution_count": null,
   "id": "d7251eb2-0718-4112-b8f3-f7c249372fa9",
   "metadata": {},
   "outputs": [],
   "source": [
    "stream.stop_stream()\n",
    "stream.close()\n",
    "pygame.display.quit()"
   ]
  },
  {
   "cell_type": "code",
   "execution_count": null,
   "id": "0cb5bed6-34ab-40c8-b546-d390f9daa857",
   "metadata": {},
   "outputs": [],
   "source": []
  }
 ],
 "metadata": {
  "kernelspec": {
   "display_name": "Python 3 (ipykernel)",
   "language": "python",
   "name": "python3"
  },
  "language_info": {
   "codemirror_mode": {
    "name": "ipython",
    "version": 3
   },
   "file_extension": ".py",
   "mimetype": "text/x-python",
   "name": "python",
   "nbconvert_exporter": "python",
   "pygments_lexer": "ipython3",
   "version": "3.10.12"
  }
 },
 "nbformat": 4,
 "nbformat_minor": 5
}
